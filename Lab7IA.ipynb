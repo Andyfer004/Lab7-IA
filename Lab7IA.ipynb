{
  "nbformat": 4,
  "nbformat_minor": 0,
  "metadata": {
    "colab": {
      "provenance": [],
      "authorship_tag": "ABX9TyNsQ2RUA+x2216HDgMP60d+",
      "include_colab_link": true
    },
    "kernelspec": {
      "name": "python3",
      "display_name": "Python 3"
    },
    "language_info": {
      "name": "python"
    }
  },
  "cells": [
    {
      "cell_type": "markdown",
      "metadata": {
        "id": "view-in-github",
        "colab_type": "text"
      },
      "source": [
        "<a href=\"https://colab.research.google.com/github/Andyfer004/Lab7-IA/blob/main/Lab7IA.ipynb\" target=\"_parent\"><img src=\"https://colab.research.google.com/assets/colab-badge.svg\" alt=\"Open In Colab\"/></a>"
      ]
    },
    {
      "cell_type": "markdown",
      "source": [
        "# Task 1 - Teoría\n",
        "\n",
        "## 1. ¿Qué es el temporal difference learning y en qué se diferencia de los métodos tradicionales de aprendizaje supervisado? Explique el concepto de \"error de diferencia temporal\" y su papel en los algoritmos de aprendizaje por refuerzo\n",
        "\n",
        "**Temporal Difference Learning (TD Learning)** es un método de aprendizaje por refuerzo que permite a un agente aprender una función de evaluación a partir de la experiencia sin necesidad de un modelo del entorno. A diferencia de los métodos tradicionales de aprendizaje supervisado, TD Learning no requiere datos etiquetados con salidas correctas, sino que ajusta su política basándose en las recompensas obtenidas.\n",
        "\n",
        "El **error de diferencia temporal (TD Error)** mide la diferencia entre la recompensa esperada y la obtenida en un estado determinado. Se define como:\n",
        "\n",
        "$$ TD\\_Error = R + \\gamma V(s') - V(s) $$\n",
        "\n",
        "Donde:\n",
        "- \\( R \\) es la recompensa obtenida.\n",
        "- \\( \\gamma \\) es el factor de descuento.\n",
        "- \\( V(s') \\) es el valor del estado siguiente.\n",
        "- \\( V(s) \\) es el valor del estado actual.\n",
        "\n",
        "El TD Error permite actualizar la función de evaluación \\( V(s) \\) de manera progresiva a medida que el agente obtiene más experiencia.\n",
        "\n",
        "\n",
        "\n",
        "## 2. En el contexto de los juegos simultáneos, ¿cómo toman decisiones los jugadores sin conocer las acciones de sus oponentes? De un ejemplo de un escenario del mundo real que pueda modelarse como un juego simultáneo y discuta las estrategias que los jugadores podrían emplear en tal situación\n",
        "\n",
        "En juegos simultáneos, los jugadores toman sus decisiones sin conocer las acciones del oponente. Para optimizar sus resultados, pueden emplear:\n",
        "\n",
        "- **Estrategia pura:** Siempre elegir la misma acción.\n",
        "- **Estrategia mixta:** Asignar probabilidades a cada acción para hacer la estrategia impredecible.\n",
        "\n",
        "### **Ejemplo: Negociaciones salariales**\n",
        "Dos empleados pueden negociar su sueldo sin conocer las ofertas de la empresa. Algunas estrategias que pueden seguir son:\n",
        "- **Estrategia agresiva:** Pedir un aumento alto esperando que la empresa acepte.\n",
        "- **Estrategia conservadora:** Pedir un aumento moderado para evitar rechazo.\n",
        "- **Estrategia mixta:** Variar la negociación en base a probabilidades.\n",
        "\n",
        "En este tipo de juegos, la incertidumbre obliga a los jugadores a optimizar sus decisiones en función de posibles respuestas del oponente.\n",
        "\n",
        "\n",
        "\n",
        "## 3. ¿Qué distingue los juegos de suma cero de los juegos de no suma cero y cómo afecta esta diferencia al proceso de toma de decisiones de los jugadores? Proporcione al menos un ejemplo de juegos que entren en la categoría de juegos de no suma cero y discuta las consideraciones estratégicas únicas involucradas\n",
        "\n",
        "### Diferencia entre juegos de suma cero y no suma cero:\n",
        "- **Juegos de suma cero:** La ganancia de un jugador implica la pérdida del otro. Ejemplo: Ajedrez.\n",
        "- **Juegos de no suma cero:** Los jugadores pueden beneficiarse simultáneamente. Ejemplo: Dilema del Prisionero.\n",
        "\n",
        "### **Ejemplo: Dilema del Prisionero**\n",
        "Dos sospechosos pueden **testificar** o **negar** el crimen. La matriz de pagos es:\n",
        "\n",
        "| A / B | Testifica | Niega |\n",
        "|-------|----------|-------|\n",
        "| **Testifica** | (-5, -5) | (-10, 0) |\n",
        "| **Niega** | (0, -10) | (-1, -1) |\n",
        "\n",
        "Las estrategias deben considerar:\n",
        "- La cooperación podría ser mejor para ambos (negar).\n",
        "- En ausencia de comunicación, el equilibrio de Nash es que ambos testifiquen.\n",
        "\n",
        "En juegos de no suma cero, la cooperación y la confianza pueden ser clave para maximizar beneficios.\n",
        "\n",
        "\n",
        "\n",
        "## 4. ¿Cómo se aplica el concepto de equilibrio de Nash a los juegos simultáneos? Explicar cómo el equilibrio de Nash representa una solución estable en la que ningún jugador tiene un incentivo para desviarse unilateralmente de la estrategia elegida\n",
        "\n",
        "El **equilibrio de Nash** es una situación en la que ningún jugador mejora cambiando unilateralmente su estrategia. Matemáticamente, si dos jugadores siguen estrategias \\( \\pi_A^* \\) y \\( \\pi_B^* \\), se cumple:\n",
        "\n",
        "$$ V_A(\\pi_A^*, \\pi_B^*) \\geq V_A(\\pi_A, \\pi_B^*) $$\n",
        "$$ V_B(\\pi_A^*, \\pi_B^*) \\geq V_B(\\pi_A^*, \\pi_B) $$\n",
        "\n",
        "Esto significa que, dada la estrategia del oponente, no hay incentivos para cambiar la propia.\n",
        "\n",
        "### **Ejemplo: Dilema del Prisionero**\n",
        "Si ambos testifican, aunque el resultado no sea óptimo, cambiar de estrategia (negar) resultaría en una peor situación para cada jugador. Por lo tanto, **testificar es el equilibrio de Nash**.\n",
        "\n",
        "Este concepto es fundamental en economía, negociación y teoría de juegos, ya que permite encontrar estrategias estables en situaciones de competencia.\n",
        "\n",
        "\n",
        "\n",
        "## 5. Discuta la aplicación del temporal difference learning en el modelado y optimización de procesos de toma de decisiones en entornos dinámicos. ¿Cómo maneja el temporal difference learning el equilibrio entre exploración y explotación y cuáles son algunos de los desafíos asociados con su implementación en la práctica?\n",
        "\n",
        "TD Learning se aplica en problemas dinámicos donde el entorno cambia y la optimización es clave. Un ejemplo destacado es **Backgammon**, donde un agente ajusta los pesos de evaluación jugando contra sí mismo.\n",
        "\n",
        "### **Exploración vs. Explotación**\n",
        "Para equilibrar la exploración y la explotación, TD Learning utiliza estrategias como:\n",
        "- **\\(\\epsilon\\)-greedy:** Con probabilidad \\( \\epsilon \\) se elige una acción aleatoria para explorar.\n",
        "- **Reducción progresiva de \\( \\epsilon \\):** Se inicia explorando más y se reduce la exploración con el tiempo.\n",
        "\n",
        "### **Desafíos en su implementación**\n",
        "1. **Convergencia lenta:** Aprender valores óptimos en entornos complejos puede ser costoso en términos de tiempo.\n",
        "2. **Dependencia de hiperparámetros:** Factores como la tasa de aprendizaje (\\( \\eta \\)) y el descuento (\\( \\gamma \\)) afectan la estabilidad y el rendimiento.\n",
        "3. **Exploración insuficiente:** Si el agente no explora lo suficiente, puede quedar atrapado en soluciones subóptimas.\n",
        "\n",
        "A pesar de estos retos, TD Learning es una herramienta poderosa en inteligencia artificial, especialmente en juegos y toma de decisiones automatizada.\n"
      ],
      "metadata": {
        "id": "rvwuOwfy06KL"
      }
    },
    {
      "cell_type": "markdown",
      "source": [
        "## Task 2 Connect 4\n",
        "## 1. Representación del Tablero: Clase `ConnectFour`\n",
        "Contiene la lógica del tablero, validación de movimientos, colocación de fichas y detección de ganador."
      ],
      "metadata": {
        "id": "D50eV-io0cni"
      }
    },
    {
      "cell_type": "code",
      "source": [
        "import numpy as np\n",
        "\n",
        "class ConnectFour:\n",
        "    def __init__(self):\n",
        "        self.rows = 6\n",
        "        self.cols = 7\n",
        "        self.reset()\n",
        "\n",
        "    def reset(self):\n",
        "        self.board = np.zeros((self.rows, self.cols), dtype=int)\n",
        "        self.game_over = False\n",
        "        self.winner = None\n",
        "\n",
        "    def valid_moves(self):\n",
        "        # Las columnas que no están llenas\n",
        "        return [c for c in range(self.cols) if self.board[0, c] == 0]\n",
        "\n",
        "    def drop_piece(self, col, piece):\n",
        "        # Coloca la ficha en la columna dada\n",
        "        for row in reversed(range(self.rows)):\n",
        "            if self.board[row, col] == 0:\n",
        "                self.board[row, col] = piece\n",
        "                return row, col\n",
        "        return None\n",
        "\n",
        "    def check_winner(self, piece):\n",
        "        # Función simplificada para verificar ganador (horizontal, vertical, diagonales)\n",
        "        # Se puede ampliar la verificación para todas las direcciones\n",
        "        # Horizontal\n",
        "        for r in range(self.rows):\n",
        "            for c in range(self.cols - 3):\n",
        "                if np.all(self.board[r, c:c+4] == piece):\n",
        "                    return True\n",
        "        # Vertical\n",
        "        for c in range(self.cols):\n",
        "            for r in range(self.rows - 3):\n",
        "                if np.all(self.board[r:r+4, c] == piece):\n",
        "                    return True\n",
        "        # Diagonales\n",
        "        for r in range(self.rows - 3):\n",
        "            for c in range(self.cols - 3):\n",
        "                if all(self.board[r+i, c+i] == piece for i in range(4)):\n",
        "                    return True\n",
        "            for c in range(3, self.cols):\n",
        "                if all(self.board[r+i, c-i] == piece for i in range(4)):\n",
        "                    return True\n",
        "        return False\n",
        "\n",
        "    def is_full(self):\n",
        "        return len(self.valid_moves()) == 0"
      ],
      "metadata": {
        "id": "e5ijqDmMyLax"
      },
      "execution_count": 1,
      "outputs": []
    },
    {
      "cell_type": "markdown",
      "source": [
        "## 2. Agente de Aprendizaje TD: Clase `QLearningAgent`\n",
        "Implementación del agente que usa Q-learning con política epsilon-greedy y tabla Q.\n"
      ],
      "metadata": {
        "id": "RsXW2nfJ0o2Q"
      }
    },
    {
      "cell_type": "code",
      "source": [
        "class QLearningAgent:\n",
        "    def __init__(self, learning_rate=0.1, discount_factor=0.95, epsilon=0.2):\n",
        "        self.lr = learning_rate\n",
        "        self.gamma = discount_factor\n",
        "        self.epsilon = epsilon\n",
        "        self.q_table = {}  # clave: estado (tupla), valor: vector Q para cada acción\n",
        "\n",
        "    def get_state_key(self, board):\n",
        "        return tuple(board.flatten())\n",
        "\n",
        "    def choose_action(self, board, valid_moves):\n",
        "        state_key = self.get_state_key(board)\n",
        "        # Si no se conoce el estado, inicializa Q para todas las columnas\n",
        "        if state_key not in self.q_table:\n",
        "            self.q_table[state_key] = np.zeros(7)\n",
        "        # Estrategia epsilon-greedy\n",
        "        if np.random.rand() < self.epsilon:\n",
        "            return np.random.choice(valid_moves)\n",
        "        else:\n",
        "            # Selecciona la acción con mayor Q, considerando sólo movimientos válidos\n",
        "            q_values = self.q_table[state_key]\n",
        "            q_valid = {a: q_values[a] for a in valid_moves}\n",
        "            return max(q_valid, key=q_valid.get)\n",
        "\n",
        "    def update(self, board, action, reward, next_board, next_valid_moves, done):\n",
        "        state_key = self.get_state_key(board)\n",
        "        next_state_key = self.get_state_key(next_board)\n",
        "        if state_key not in self.q_table:\n",
        "            self.q_table[state_key] = np.zeros(7)\n",
        "        current_q = self.q_table[state_key][action]\n",
        "        # Inicializa Q en el siguiente estado si no existe\n",
        "        if next_state_key not in self.q_table:\n",
        "            self.q_table[next_state_key] = np.zeros(7)\n",
        "        max_next_q = 0 if done else np.max(self.q_table[next_state_key][next_valid_moves])\n",
        "        # Actualización de Q-learning\n",
        "        self.q_table[state_key][action] += self.lr * (reward + self.gamma * max_next_q - current_q)"
      ],
      "metadata": {
        "id": "lzcbmzniyMQK"
      },
      "execution_count": 2,
      "outputs": []
    },
    {
      "cell_type": "markdown",
      "source": [
        "## 3. Función de Recompensa `get_reward()`\n",
        "Calcula la recompensa en función del estado actual: victoria, derrota, empate o juego en curso.\n"
      ],
      "metadata": {
        "id": "3TXBb6hP0sjQ"
      }
    },
    {
      "cell_type": "code",
      "source": [
        "def get_reward(game, piece):\n",
        "    # Si el juego ha terminado, se evalúa el resultado\n",
        "    if game.check_winner(piece):\n",
        "        return 1\n",
        "    elif game.check_winner(-piece):\n",
        "        return -1\n",
        "    elif game.is_full():\n",
        "        return 0.5  # empate (recompensa intermedia)\n",
        "    else:\n",
        "        return 0  # juego en curso"
      ],
      "metadata": {
        "id": "b75AxTiEyRFi"
      },
      "execution_count": 3,
      "outputs": []
    },
    {
      "cell_type": "markdown",
      "source": [
        "## 4. Entrenamiento del Agente TD: Función `train_td()`\n",
        "Entrena al agente Q-learning jugando múltiples partidas contra sí mismo u otro agente."
      ],
      "metadata": {
        "id": "p7A_pb5S0vE8"
      }
    },
    {
      "cell_type": "code",
      "source": [
        "def train_td(agent, episodes=5000):\n",
        "    game = ConnectFour()\n",
        "    for episode in range(episodes):\n",
        "        game.reset()\n",
        "        current_piece = 1  # El agente juega como 1\n",
        "        state = game.board.copy()\n",
        "        done = False\n",
        "        while not done:\n",
        "            valid_moves = game.valid_moves()\n",
        "            # El agente toma acción\n",
        "            action = agent.choose_action(state, valid_moves)\n",
        "            game.drop_piece(action, current_piece)\n",
        "            next_state = game.board.copy()\n",
        "            # Revisamos si se ganó o si el tablero se llenó\n",
        "            if game.check_winner(current_piece):\n",
        "                reward = 1\n",
        "                done = True\n",
        "            elif game.is_full():\n",
        "                reward = 0.5\n",
        "                done = True\n",
        "            else:\n",
        "                reward = 0\n",
        "            next_valid_moves = game.valid_moves()\n",
        "            agent.update(state, action, reward, next_state, next_valid_moves, done)\n",
        "            state = next_state.copy()\n",
        "            # Cambio de turno (suponiendo un juego de self-play o contra un oponente simple)\n",
        "            current_piece *= -1"
      ],
      "metadata": {
        "id": "o4QM-fcEyTni"
      },
      "execution_count": 4,
      "outputs": []
    },
    {
      "cell_type": "markdown",
      "source": [
        "## 5. Agentes Oponentes: Minimax y Alpha-Beta\n",
        "Funciones `minimax()` y `minimax_alphabeta()` para los oponentes basados en búsqueda de árbol."
      ],
      "metadata": {
        "id": "evFzffrA0ymv"
      }
    },
    {
      "cell_type": "code",
      "source": [
        "def minimax(game, depth, maximizing_player, piece):\n",
        "    # Caso base: fin del juego o profundidad 0\n",
        "    if depth == 0 or game.check_winner(1) or game.check_winner(-1) or game.is_full():\n",
        "        # Función de evaluación simple: retorna 0 para empate, 1 para victoria, -1 para derrota\n",
        "        if game.check_winner(piece):\n",
        "            return (None, 1)\n",
        "        elif game.check_winner(-piece):\n",
        "            return (None, -1)\n",
        "        else:\n",
        "            return (None, 0)\n",
        "\n",
        "    valid_moves = game.valid_moves()\n",
        "    if maximizing_player:\n",
        "        value = -np.inf\n",
        "        best_move = None\n",
        "        for move in valid_moves:\n",
        "            temp_game = ConnectFour()\n",
        "            temp_game.board = game.board.copy()\n",
        "            temp_game.drop_piece(move, piece)\n",
        "            new_score = minimax(temp_game, depth-1, False, piece)[1]\n",
        "            if new_score > value:\n",
        "                value = new_score\n",
        "                best_move = move\n",
        "        return best_move, value\n",
        "    else:\n",
        "        value = np.inf\n",
        "        best_move = None\n",
        "        for move in valid_moves:\n",
        "            temp_game = ConnectFour()\n",
        "            temp_game.board = game.board.copy()\n",
        "            temp_game.drop_piece(move, -piece)\n",
        "            new_score = minimax(temp_game, depth-1, True, piece)[1]\n",
        "            if new_score < value:\n",
        "                value = new_score\n",
        "                best_move = move\n",
        "        return best_move, value\n",
        "\n",
        "# Para minimax con poda alpha-beta se puede ampliar la función anterior:\n",
        "def minimax_alphabeta(game, depth, alpha, beta, maximizing_player, piece):\n",
        "    if depth == 0 or game.check_winner(1) or game.check_winner(-1) or game.is_full():\n",
        "        if game.check_winner(piece):\n",
        "            return (None, 1)\n",
        "        elif game.check_winner(-piece):\n",
        "            return (None, -1)\n",
        "        else:\n",
        "            return (None, 0)\n",
        "\n",
        "    valid_moves = game.valid_moves()\n",
        "    if maximizing_player:\n",
        "        value = -np.inf\n",
        "        best_move = None\n",
        "        for move in valid_moves:\n",
        "            temp_game = ConnectFour()\n",
        "            temp_game.board = game.board.copy()\n",
        "            temp_game.drop_piece(move, piece)\n",
        "            new_score = minimax_alphabeta(temp_game, depth-1, alpha, beta, False, piece)[1]\n",
        "            if new_score > value:\n",
        "                value = new_score\n",
        "                best_move = move\n",
        "            alpha = max(alpha, value)\n",
        "            if alpha >= beta:\n",
        "                break\n",
        "        return best_move, value\n",
        "    else:\n",
        "        value = np.inf\n",
        "        best_move = None\n",
        "        for move in valid_moves:\n",
        "            temp_game = ConnectFour()\n",
        "            temp_game.board = game.board.copy()\n",
        "            temp_game.drop_piece(move, -piece)\n",
        "            new_score = minimax_alphabeta(temp_game, depth-1, alpha, beta, True, piece)[1]\n",
        "            if new_score < value:\n",
        "                value = new_score\n",
        "                best_move = move\n",
        "            beta = min(beta, value)\n",
        "            if beta <= alpha:\n",
        "                break\n",
        "        return best_move, value"
      ],
      "metadata": {
        "id": "QqBGJoC-yV3C"
      },
      "execution_count": 5,
      "outputs": []
    },
    {
      "cell_type": "markdown",
      "source": [
        "## 6. Evaluación y Visualización de Resultados\n",
        "Simula juegos entre agentes, cuenta victorias y genera una gráfica de barras con `matplotlib`."
      ],
      "metadata": {
        "id": "5UYaG4Vh01Uq"
      }
    },
    {
      "cell_type": "code",
      "source": [
        "import matplotlib.pyplot as plt\n",
        "\n",
        "def jugar_partido(agent_td, opponent_func, depth=3, num_games=50, opponent_type=\"Minimax\"):\n",
        "    # agent_td es el agente Q-learning, opponent_func es la función (minimax o minimax_alphabeta)\n",
        "    wins_td = 0\n",
        "    wins_opp = 0\n",
        "    game = ConnectFour()\n",
        "    for _ in range(num_games):\n",
        "        game.reset()\n",
        "        current_piece = 1  # Empezamos con el agente TD como 1\n",
        "        state = game.board.copy()\n",
        "        done = False\n",
        "        while not done:\n",
        "            valid_moves = game.valid_moves()\n",
        "            if current_piece == 1:\n",
        "                # Agente TD\n",
        "                action = agent_td.choose_action(state, valid_moves)\n",
        "            else:\n",
        "                # Oponente: utiliza la función minimax (o alpha-beta)\n",
        "                if opponent_type == \"Minimax\":\n",
        "                    action, _ = minimax(game, depth, True, -1)\n",
        "                else:\n",
        "                    action, _ = minimax_alphabeta(game, depth, -np.inf, np.inf, True, -1)\n",
        "                # Si minimax no devuelve acción, selecciona aleatoriamente\n",
        "                if action is None:\n",
        "                    action = np.random.choice(valid_moves)\n",
        "            game.drop_piece(action, current_piece)\n",
        "            state = game.board.copy()\n",
        "            # Verificar si hay ganador o empate\n",
        "            if game.check_winner(current_piece):\n",
        "                done = True\n",
        "                if current_piece == 1:\n",
        "                    wins_td += 1\n",
        "                else:\n",
        "                    wins_opp += 1\n",
        "            elif game.is_full():\n",
        "                done = True\n",
        "            current_piece *= -1\n",
        "    return wins_td, wins_opp\n",
        "\n",
        "# Supongamos que ya entrenamos el agente TD\n",
        "agent_td = QLearningAgent()\n",
        "# Entrenamiento (por ejemplo, 5000 episodios)\n",
        "train_td(agent_td, episodes=5000)\n",
        "\n",
        "# Jugar 50 juegos contra Minimax y 50 juegos contra Minimax con poda alpha-beta\n",
        "wins_td_minimax, wins_minimax = jugar_partido(agent_td, minimax, depth=3, num_games=50, opponent_type=\"Minimax\")\n",
        "wins_td_alphabeta, wins_alphabeta = jugar_partido(agent_td, minimax_alphabeta, depth=3, num_games=50, opponent_type=\"AlphaBeta\")\n",
        "\n",
        "# También se puede simular un enfrentamiento entre Minimax y Alpha-Beta si se requiere.\n",
        "\n",
        "# Graficar los resultados\n",
        "labels = ['TD vs Minimax', 'TD vs AlphaBeta']\n",
        "td_wins = [wins_td_minimax, wins_td_alphabeta]\n",
        "opp_wins = [wins_minimax, wins_alphabeta]\n",
        "\n",
        "x = np.arange(len(labels))\n",
        "width = 0.35\n",
        "\n",
        "fig, ax = plt.subplots()\n",
        "rects1 = ax.bar(x - width/2, td_wins, width, label='Agente TD')\n",
        "rects2 = ax.bar(x + width/2, opp_wins, width, label='Oponente')\n",
        "ax.set_ylabel('Número de Victorias')\n",
        "ax.set_title('Resultados de 50 juegos por enfrentamiento')\n",
        "ax.set_xticks(x)\n",
        "ax.set_xticklabels(labels)\n",
        "ax.legend()\n",
        "\n",
        "plt.show()"
      ],
      "metadata": {
        "colab": {
          "base_uri": "https://localhost:8080/",
          "height": 452
        },
        "id": "PgMMF6_PyZPs",
        "outputId": "fe433ec9-7dc1-456a-d0ed-8636743a1434"
      },
      "execution_count": 6,
      "outputs": [
        {
          "output_type": "display_data",
          "data": {
            "text/plain": [
              "<Figure size 640x480 with 1 Axes>"
            ],
            "image/png": "[encoded data removed]"
          },
          "metadata": {}
        }
      ]
    },
    {
      "cell_type": "markdown",
      "source": [
        "\n",
        "\n",
        "## Conclusiones y Explicación Final\n",
        "\n",
        "### ¿Qué hace el agente entrenado con TD Learning a nivel general?\n",
        "\n",
        "El agente entrenado con **aprendizaje por diferencias temporales (TD Learning)** utiliza el algoritmo **Q-Learning** para aprender una función de valor que le permite tomar decisiones más inteligentes con base en su experiencia. Durante el entrenamiento, el agente juega partidas y actualiza su tabla de valores Q para cada combinación de estado-acción, con el objetivo de maximizar las recompensas a lo largo del tiempo.\n",
        "\n",
        "Su estrategia se basa en explorar el tablero mediante una política **epsilon-greedy**, que alterna entre elegir la mejor acción conocida y explorar nuevas opciones. Con el tiempo, y tras muchas partidas, el agente ajusta su comportamiento para seleccionar las acciones que le llevan a ganar o evitar perder.\n",
        "\n",
        "\n",
        "\n",
        "### ¿Por qué ganó más veces el agente que ganó?\n",
        "\n",
        "En los enfrentamientos realizados, se observó que los agentes que utilizan **Minimax** y **Minimax con poda Alpha-Beta** ganaron significativamente más veces que el agente TD. Esto se debe a que estas estrategias exploran múltiples futuros posibles en el árbol del juego, evaluando sistemáticamente las mejores jugadas posibles hasta cierta profundidad. Son métodos **determinísticos y estratégicos**, mientras que el agente TD depende del aprendizaje a través de la experiencia, y requiere muchas más partidas para acercarse a un buen nivel.\n",
        "\n",
        "El **agente TD no alcanzó un nivel de aprendizaje suficientemente alto**, posiblemente por un número limitado de episodios de entrenamiento, una política de exploración muy alta, o por no haber refinado los hiperparámetros (tasa de aprendizaje, descuento, epsilon).\n",
        "\n",
        "\n",
        "\n",
        "### ¿Cómo afectó el tener o no esta estrategia al agente que ganó?\n",
        "\n",
        "Los agentes **Minimax y Alpha-Beta** cuentan con una estrategia fija que evalúa las mejores jugadas posibles en cada turno, por lo que no dependen del entrenamiento. Esto les permitió obtener una ventaja clara desde el principio.\n",
        "\n",
        "En cambio, el agente TD Learning **requiere jugar muchas partidas para mejorar su rendimiento**, y si no se le da suficiente tiempo de entrenamiento o si la función de recompensa no está bien diseñada, su rendimiento será inferior. El no tener una estrategia basada en búsqueda (como Minimax) le impide tomar decisiones óptimas desde las primeras partidas.\n"
      ],
      "metadata": {
        "id": "gNw7thos140y"
      }
    }
  ]
}